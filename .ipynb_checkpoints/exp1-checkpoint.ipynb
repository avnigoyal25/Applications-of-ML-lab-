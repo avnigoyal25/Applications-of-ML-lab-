{
 "cells": [
  {
   "cell_type": "markdown",
   "id": "c85496ff",
   "metadata": {},
   "source": [
    "# Exploring numpy"
   ]
  },
  {
   "cell_type": "markdown",
   "id": "53d6cd8c",
   "metadata": {},
   "source": [
    "### Basic NumPy Operations"
   ]
  },
  {
   "cell_type": "markdown",
   "id": "80539fec",
   "metadata": {},
   "source": [
    "1.\tCreate a NumPy array 'arr' with values from 1 to 10."
   ]
  },
  {
   "cell_type": "code",
   "execution_count": 1,
   "id": "8c2b19c5",
   "metadata": {},
   "outputs": [
    {
     "name": "stdout",
     "output_type": "stream",
     "text": [
      "[ 1  2  3  4  5  6  7  8  9 10]\n"
     ]
    }
   ],
   "source": [
    "import numpy as np\n",
    "\n",
    "arr = np.arange(1, 11)\n",
    "print(arr)"
   ]
  },
  {
   "cell_type": "markdown",
   "id": "9de426ac",
   "metadata": {},
   "source": [
    "2.\tCreate another NumPy array 'arr2' with values from 11 to 20."
   ]
  },
  {
   "cell_type": "code",
   "execution_count": 2,
   "id": "df07407d",
   "metadata": {},
   "outputs": [
    {
     "name": "stdout",
     "output_type": "stream",
     "text": [
      "[11 12 13 14 15 16 17 18 19 20]\n"
     ]
    }
   ],
   "source": [
    "arr2 = np.arange(11, 21)\n",
    "print(arr2)"
   ]
  },
  {
   "cell_type": "markdown",
   "id": "1c5fc457",
   "metadata": {},
   "source": [
    "3.\tAdd, subtract, multiply, and divide 'arr' and 'arr2'. Print the results"
   ]
  },
  {
   "cell_type": "code",
   "execution_count": 3,
   "id": "b995679e",
   "metadata": {},
   "outputs": [
    {
     "name": "stdout",
     "output_type": "stream",
     "text": [
      "Addition Result: [12 14 16 18 20 22 24 26 28 30]\n",
      "Subtraction Result: [-10 -10 -10 -10 -10 -10 -10 -10 -10 -10]\n",
      "Multiplication Result: [ 11  24  39  56  75  96 119 144 171 200]\n",
      "Division Result: [0.09090909 0.16666667 0.23076923 0.28571429 0.33333333 0.375\n",
      " 0.41176471 0.44444444 0.47368421 0.5       ]\n"
     ]
    }
   ],
   "source": [
    "addition_result = arr + arr2\n",
    "subtraction_result = arr - arr2\n",
    "multiplication_result = arr * arr2\n",
    "division_result = arr / arr2\n",
    "\n",
    "print(\"Addition Result:\", addition_result)\n",
    "print(\"Subtraction Result:\", subtraction_result)\n",
    "print(\"Multiplication Result:\", multiplication_result)\n",
    "print(\"Division Result:\", division_result)"
   ]
  },
  {
   "cell_type": "markdown",
   "id": "d9703bd8",
   "metadata": {},
   "source": [
    "### Array Manipulation"
   ]
  },
  {
   "cell_type": "markdown",
   "id": "91708084",
   "metadata": {},
   "source": [
    "1.\tReshape 'arr' into a 2x5 matrix."
   ]
  },
  {
   "cell_type": "code",
   "execution_count": 6,
   "id": "f405bac8",
   "metadata": {},
   "outputs": [
    {
     "name": "stdout",
     "output_type": "stream",
     "text": [
      "[[ 1  2  3  4  5]\n",
      " [ 6  7  8  9 10]]\n"
     ]
    }
   ],
   "source": [
    "arr_reshaped = np.reshape(arr, (2, 5))\n",
    "print(arr_reshaped)"
   ]
  },
  {
   "cell_type": "markdown",
   "id": "e1b8a0f1",
   "metadata": {},
   "source": [
    "2.\tTranspose the matrix obtained in the previous step."
   ]
  },
  {
   "cell_type": "code",
   "execution_count": 7,
   "id": "65cec8dd",
   "metadata": {},
   "outputs": [
    {
     "name": "stdout",
     "output_type": "stream",
     "text": [
      "[[ 1  6]\n",
      " [ 2  7]\n",
      " [ 3  8]\n",
      " [ 4  9]\n",
      " [ 5 10]]\n"
     ]
    }
   ],
   "source": [
    "arr_transposed = np.transpose(arr_reshaped)\n",
    "print(arr_transposed)"
   ]
  },
  {
   "cell_type": "markdown",
   "id": "be45a65c",
   "metadata": {},
   "source": [
    "3.\tFlatten the transposed matrix into a 1D array."
   ]
  },
  {
   "cell_type": "code",
   "execution_count": 9,
   "id": "58ade69e",
   "metadata": {},
   "outputs": [
    {
     "name": "stdout",
     "output_type": "stream",
     "text": [
      "[ 1  6  2  7  3  8  4  9  5 10]\n"
     ]
    }
   ],
   "source": [
    "arr_flatened=arr_transposed.flatten()\n",
    "print(arr_flatened)"
   ]
  },
  {
   "cell_type": "markdown",
   "id": "a1dfc3c9",
   "metadata": {},
   "source": [
    "4.\tStack 'arr' and 'arr2' vertically. Print the result."
   ]
  },
  {
   "cell_type": "code",
   "execution_count": 10,
   "id": "ed4836cc",
   "metadata": {},
   "outputs": [
    {
     "name": "stdout",
     "output_type": "stream",
     "text": [
      "[[ 1  2  3  4  5  6  7  8  9 10]\n",
      " [11 12 13 14 15 16 17 18 19 20]]\n"
     ]
    }
   ],
   "source": [
    "stacked_array = np.vstack((arr, arr2))\n",
    "print(stacked_array)"
   ]
  },
  {
   "cell_type": "markdown",
   "id": "950e2003",
   "metadata": {},
   "source": [
    "### Statistical Operations"
   ]
  },
  {
   "cell_type": "markdown",
   "id": "66d83e45",
   "metadata": {},
   "source": [
    "1.\tCalculate the mean, median, and standard deviation of 'arr'."
   ]
  },
  {
   "cell_type": "code",
   "execution_count": 14,
   "id": "d78ccc8d",
   "metadata": {},
   "outputs": [
    {
     "name": "stdout",
     "output_type": "stream",
     "text": [
      "Mean is: 5.5\n",
      "Median is: 5.5\n",
      "Standard Deviation is: 2.8722813232690143\n"
     ]
    }
   ],
   "source": [
    "mean=np.mean(arr)\n",
    "median=np.median(arr)\n",
    "standardDeviation=np.std(arr)\n",
    "\n",
    "print(\"Mean is:\",mean)\n",
    "print(\"Median is:\",median)\n",
    "print(\"Standard Deviation is:\",standardDeviation)"
   ]
  },
  {
   "cell_type": "markdown",
   "id": "5b12414f",
   "metadata": {},
   "source": [
    "2.\tFind the maximum and minimum values in 'arr'"
   ]
  },
  {
   "cell_type": "code",
   "execution_count": 16,
   "id": "fc11bc79",
   "metadata": {},
   "outputs": [
    {
     "name": "stdout",
     "output_type": "stream",
     "text": [
      "Max value: 10\n",
      "Min value: 1\n"
     ]
    }
   ],
   "source": [
    "print(\"Max value:\",np.max(arr))\n",
    "print(\"Min value:\",np.min(arr))"
   ]
  },
  {
   "cell_type": "markdown",
   "id": "fdda1cde",
   "metadata": {},
   "source": [
    "3.\tNormalize 'arr' (subtract the mean and divide by the standard deviation)."
   ]
  },
  {
   "cell_type": "code",
   "execution_count": 18,
   "id": "6c47bc3a",
   "metadata": {},
   "outputs": [
    {
     "name": "stdout",
     "output_type": "stream",
     "text": [
      "[-1.5666989  -1.21854359 -0.87038828 -0.52223297 -0.17407766  0.17407766\n",
      "  0.52223297  0.87038828  1.21854359  1.5666989 ]\n"
     ]
    }
   ],
   "source": [
    "arr_normalized = (arr - mean) / standardDeviation\n",
    "print(arr_normalized)"
   ]
  },
  {
   "cell_type": "markdown",
   "id": "c65e6478",
   "metadata": {},
   "source": [
    "### Boolean Indexing"
   ]
  },
  {
   "cell_type": "markdown",
   "id": "fef3ffe4",
   "metadata": {},
   "source": [
    "1.\tCreate a boolean array 'bool_arr' for elements in 'arr' greater than 5."
   ]
  },
  {
   "cell_type": "code",
   "execution_count": 19,
   "id": "266f8857",
   "metadata": {},
   "outputs": [
    {
     "name": "stdout",
     "output_type": "stream",
     "text": [
      "[False False False False False  True  True  True  True  True]\n"
     ]
    }
   ],
   "source": [
    "bool_arr=arr>5\n",
    "print(bool_arr)"
   ]
  },
  {
   "cell_type": "markdown",
   "id": "17e4baa4",
   "metadata": {},
   "source": [
    "2.\tUse 'bool_arr' to extract the elements from 'arr' that are greater than 5."
   ]
  },
  {
   "cell_type": "code",
   "execution_count": 20,
   "id": "63236f2f",
   "metadata": {},
   "outputs": [
    {
     "name": "stdout",
     "output_type": "stream",
     "text": [
      "[ 6  7  8  9 10]\n"
     ]
    }
   ],
   "source": [
    "filtered_arr = arr[bool_arr]\n",
    "print(filtered_arr)"
   ]
  },
  {
   "cell_type": "markdown",
   "id": "2aaafe69",
   "metadata": {},
   "source": [
    "### Random module"
   ]
  },
  {
   "cell_type": "markdown",
   "id": "a5246bae",
   "metadata": {},
   "source": [
    "1.\tGenerate a 3x3 matrix with random values between 0 and 1."
   ]
  },
  {
   "cell_type": "code",
   "execution_count": 21,
   "id": "14a379e8",
   "metadata": {},
   "outputs": [
    {
     "name": "stdout",
     "output_type": "stream",
     "text": [
      "[[0.58983075 0.74440831 0.26119493]\n",
      " [0.07329969 0.04246981 0.79974822]\n",
      " [0.62921304 0.12983326 0.26564706]]\n"
     ]
    }
   ],
   "source": [
    "random_matrix = np.random.rand(3, 3)\n",
    "print(random_matrix)"
   ]
  },
  {
   "cell_type": "markdown",
   "id": "9114cd4b",
   "metadata": {},
   "source": [
    "2.\tCreate an array of 10 random integers between 1 and 100."
   ]
  },
  {
   "cell_type": "code",
   "execution_count": 23,
   "id": "71b1a959",
   "metadata": {},
   "outputs": [
    {
     "name": "stdout",
     "output_type": "stream",
     "text": [
      "[10 10 78 11 24 50 93 26 34 54]\n"
     ]
    }
   ],
   "source": [
    "arr3=np.random.randint(1,101,size=10)\n",
    "print(arr3)"
   ]
  },
  {
   "cell_type": "markdown",
   "id": "92caaadf",
   "metadata": {},
   "source": [
    "3.\tShuffle the elements of 'arr' randomly."
   ]
  },
  {
   "cell_type": "code",
   "execution_count": 24,
   "id": "75630f42",
   "metadata": {},
   "outputs": [
    {
     "name": "stdout",
     "output_type": "stream",
     "text": [
      "[ 8 10  3  5  6  9  7  4  2  1]\n"
     ]
    }
   ],
   "source": [
    "np.random.shuffle(arr)\n",
    "print(arr)"
   ]
  },
  {
   "cell_type": "markdown",
   "id": "21243509",
   "metadata": {},
   "source": [
    "### Universal Functions (ufunc)"
   ]
  },
  {
   "cell_type": "markdown",
   "id": "4bb420f4",
   "metadata": {},
   "source": [
    "1.\tApply the square root function to all elements in 'arr'."
   ]
  },
  {
   "cell_type": "code",
   "execution_count": 25,
   "id": "35204e78",
   "metadata": {},
   "outputs": [
    {
     "name": "stdout",
     "output_type": "stream",
     "text": [
      "[2.82842712 3.16227766 1.73205081 2.23606798 2.44948974 3.\n",
      " 2.64575131 2.         1.41421356 1.        ]\n"
     ]
    }
   ],
   "source": [
    "arr_square_root = np.sqrt(arr)\n",
    "print(arr_square_root)"
   ]
  },
  {
   "cell_type": "markdown",
   "id": "f63cbff6",
   "metadata": {},
   "source": [
    "2.\tUse the exponential function to calculate exex for each element in 'arr'."
   ]
  },
  {
   "cell_type": "code",
   "execution_count": 26,
   "id": "0ca4d0bc",
   "metadata": {},
   "outputs": [
    {
     "name": "stdout",
     "output_type": "stream",
     "text": [
      "[2.98095799e+03 2.20264658e+04 2.00855369e+01 1.48413159e+02\n",
      " 4.03428793e+02 8.10308393e+03 1.09663316e+03 5.45981500e+01\n",
      " 7.38905610e+00 2.71828183e+00]\n"
     ]
    }
   ],
   "source": [
    "arr_exponential = np.exp(arr)\n",
    "print(arr_exponential)"
   ]
  },
  {
   "cell_type": "markdown",
   "id": "0bf8fba1",
   "metadata": {},
   "source": [
    "### Linear Algebra Operations"
   ]
  },
  {
   "cell_type": "markdown",
   "id": "83c9eac1",
   "metadata": {},
   "source": [
    "1.\tCreate a 3x3 matrix 'mat_a' with random values."
   ]
  },
  {
   "cell_type": "code",
   "execution_count": 27,
   "id": "46aacf6b",
   "metadata": {},
   "outputs": [
    {
     "name": "stdout",
     "output_type": "stream",
     "text": [
      "[[0.01590376 0.063594   0.83532112]\n",
      " [0.37358043 0.26998991 0.28341007]\n",
      " [0.41803633 0.14738558 0.48161369]]\n"
     ]
    }
   ],
   "source": [
    "mat_a=np.random.rand(3,3)\n",
    "print(mat_a)"
   ]
  },
  {
   "cell_type": "markdown",
   "id": "c7942318",
   "metadata": {},
   "source": [
    "2.\tCreate a 3x1 matrix 'vec_b' with random values."
   ]
  },
  {
   "cell_type": "code",
   "execution_count": 28,
   "id": "a66f001a",
   "metadata": {},
   "outputs": [
    {
     "name": "stdout",
     "output_type": "stream",
     "text": [
      "[[0.89380936]\n",
      " [0.08256461]\n",
      " [0.51395215]]\n"
     ]
    }
   ],
   "source": [
    "vec_b=np.random.rand(3,1)\n",
    "print(vec_b)"
   ]
  },
  {
   "cell_type": "markdown",
   "id": "680d9229",
   "metadata": {},
   "source": [
    "3.\tMultiply 'mat_a' and 'vec_b' using the dot product."
   ]
  },
  {
   "cell_type": "code",
   "execution_count": 29,
   "id": "fb50e346",
   "metadata": {},
   "outputs": [
    {
     "name": "stdout",
     "output_type": "stream",
     "text": [
      "[[0.44878063]\n",
      " [0.50186051]\n",
      " [0.63334001]]\n"
     ]
    }
   ],
   "source": [
    "result = np.dot(mat_a, vec_b)\n",
    "print(result)"
   ]
  },
  {
   "cell_type": "markdown",
   "id": "1ac77fec",
   "metadata": {},
   "source": [
    "### Broadcasting"
   ]
  },
  {
   "cell_type": "markdown",
   "id": "f3a939e5",
   "metadata": {},
   "source": [
    "1.\tCreate a 2D array 'matrix' with values from 1 to 9."
   ]
  },
  {
   "cell_type": "code",
   "execution_count": 31,
   "id": "bc67f063",
   "metadata": {},
   "outputs": [
    {
     "name": "stdout",
     "output_type": "stream",
     "text": [
      "[[1 2 3]\n",
      " [4 5 6]\n",
      " [7 8 9]]\n"
     ]
    }
   ],
   "source": [
    "arr2=np.arange(1,10)\n",
    "matrix = arr2.reshape(3, 3)\n",
    "print(matrix)"
   ]
  },
  {
   "cell_type": "markdown",
   "id": "4f07b018",
   "metadata": {},
   "source": [
    "2.\tSubtract the mean of each row from each element in that row."
   ]
  },
  {
   "cell_type": "code",
   "execution_count": 37,
   "id": "334996a3",
   "metadata": {},
   "outputs": [
    {
     "name": "stdout",
     "output_type": "stream",
     "text": [
      "[[-1.  0.  1.]\n",
      " [-1.  0.  1.]\n",
      " [-1.  0.  1.]]\n"
     ]
    }
   ],
   "source": [
    "# Calculate the mean of each row\n",
    "row_means = np.mean(matrix, axis=1)\n",
    "\n",
    "# Subtract the mean of each row from each element in that row\n",
    "matrix_centered = matrix - row_means[:, np.newaxis]\n",
    "print(matrix_centered)"
   ]
  },
  {
   "cell_type": "markdown",
   "id": "c48784dd",
   "metadata": {},
   "source": [
    "# Introduction to Panda"
   ]
  },
  {
   "cell_type": "markdown",
   "id": "aaaeafab",
   "metadata": {},
   "source": [
    "### Basic DataFrame Operations"
   ]
  },
  {
   "cell_type": "markdown",
   "id": "c411711b",
   "metadata": {},
   "source": [
    "I.\tDownload a dataset of your choice (CSV, Excel, or any other format). And load the dataset into a Pandas DataFrame."
   ]
  },
  {
   "cell_type": "code",
   "execution_count": 9,
   "id": "4344ee2d",
   "metadata": {},
   "outputs": [],
   "source": [
    "import pandas as pd\n",
    "\n",
    "df = pd.read_csv('Cleaned_data.csv')"
   ]
  },
  {
   "cell_type": "markdown",
   "id": "f55757f3",
   "metadata": {},
   "source": [
    "II.\tDisplay the first 5 rows of the dataset. Check for missing values and handle them appropriately. Get a summary of the dataset using describe()."
   ]
  },
  {
   "cell_type": "code",
   "execution_count": 10,
   "id": "d20ce38c",
   "metadata": {},
   "outputs": [
    {
     "name": "stdout",
     "output_type": "stream",
     "text": [
      "First 5 rows\n",
      "    Unnamed: 0                    name   company  year   Price  kms_driven  \\\n",
      "0           0     Hyundai Santro Xing   Hyundai  2007   80000       45000   \n",
      "1           1     Mahindra Jeep CL550  Mahindra  2006  425000          40   \n",
      "2           2       Hyundai Grand i10   Hyundai  2014  325000       28000   \n",
      "3           3  Ford EcoSport Titanium      Ford  2014  575000       36000   \n",
      "4           4               Ford Figo      Ford  2012  175000       41000   \n",
      "\n",
      "  fuel_type  \n",
      "0    Petrol  \n",
      "1    Diesel  \n",
      "2    Petrol  \n",
      "3    Diesel  \n",
      "4    Diesel  \n",
      "\n",
      "\n",
      "checking missing values Unnamed: 0    0\n",
      "name          0\n",
      "company       0\n",
      "year          0\n",
      "Price         0\n",
      "kms_driven    0\n",
      "fuel_type     0\n",
      "dtype: int64\n",
      "/n\n",
      "summary        Unnamed: 0         year         Price     kms_driven\n",
      "count  815.000000   815.000000  8.150000e+02     815.000000\n",
      "mean   407.000000  2012.442945  4.017933e+05   46277.096933\n",
      "std    235.414528     4.005079  3.815888e+05   34318.459638\n",
      "min      0.000000  1995.000000  3.000000e+04       0.000000\n",
      "25%    203.500000  2010.000000  1.750000e+05   27000.000000\n",
      "50%    407.000000  2013.000000  2.999990e+05   41000.000000\n",
      "75%    610.500000  2015.000000  4.900000e+05   56879.000000\n",
      "max    814.000000  2019.000000  3.100000e+06  400000.000000\n"
     ]
    }
   ],
   "source": [
    "print(\"First 5 rows\\n\",df.head(5))\n",
    "print(\"\\n\")\n",
    "\n",
    "print(\"checking missing values\\n\",df.isnull().sum())\n",
    "\n",
    "df = df.dropna()\n",
    "\n",
    "print(\"summary\",df.describe())"
   ]
  }
 ],
 "metadata": {
  "kernelspec": {
   "display_name": "Python 3 (ipykernel)",
   "language": "python",
   "name": "python3"
  },
  "language_info": {
   "codemirror_mode": {
    "name": "ipython",
    "version": 3
   },
   "file_extension": ".py",
   "mimetype": "text/x-python",
   "name": "python",
   "nbconvert_exporter": "python",
   "pygments_lexer": "ipython3",
   "version": "3.10.5"
  }
 },
 "nbformat": 4,
 "nbformat_minor": 5
}

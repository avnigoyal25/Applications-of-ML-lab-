{
 "cells": [
  {
   "cell_type": "markdown",
   "id": "ce13ea1f",
   "metadata": {},
   "source": [
    "# One way anova"
   ]
  },
  {
   "cell_type": "markdown",
   "id": "92b8686e",
   "metadata": {},
   "source": [
    "Researchers took 20 cars of the same to take part in a study. These cars are randomly doped with one of the four-engine oils and allowed to run freely for 100 kilometers each. At the end of the journey, the performance of each of the cars is noted."
   ]
  },
  {
   "cell_type": "code",
   "execution_count": 1,
   "id": "11a4b61f",
   "metadata": {},
   "outputs": [],
   "source": [
    "performance1 = [89, 89, 88, 78, 79]\n",
    "performance2 = [93, 92, 94, 89, 88]\n",
    "performance3 = [89, 88, 89, 93, 90]\n",
    "performance4 = [81, 78, 81, 92, 82]"
   ]
  },
  {
   "cell_type": "code",
   "execution_count": 2,
   "id": "ffa0d5db",
   "metadata": {},
   "outputs": [
    {
     "data": {
      "text/plain": [
       "F_onewayResult(statistic=4.625000000000002, pvalue=0.016336459839780215)"
      ]
     },
     "execution_count": 2,
     "metadata": {},
     "output_type": "execute_result"
    }
   ],
   "source": [
    "from scipy.stats import f_oneway\n",
    " \n",
    "# Performance when each of the engine \n",
    "# oil is applied\n",
    "performance1 = [89, 89, 88, 78, 79]\n",
    "performance2 = [93, 92, 94, 89, 88]\n",
    "performance3 = [89, 88, 89, 93, 90]\n",
    "performance4 = [81, 78, 81, 92, 82]\n",
    " \n",
    "# Conduct the one-way ANOVA\n",
    "f_oneway(performance1, performance2, performance3, performance4)"
   ]
  },
  {
   "cell_type": "markdown",
   "id": "eb84c6e2",
   "metadata": {},
   "source": [
    "### The F statistic and p-value turn out to be equal to 4.625 and 0.016336498 respectively. Since the p-value is less than 0.05 hence we would reject the null hypothesis.\n",
    "\n",
    "This implies that we have sufficient proof to say that there exists a difference in the performance among four different engine oils. "
   ]
  },
  {
   "cell_type": "markdown",
   "id": "2003c8ec",
   "metadata": {},
   "source": [
    "# Two way anova"
   ]
  },
  {
   "cell_type": "markdown",
   "id": "d68032f4",
   "metadata": {},
   "source": [
    "Let us consider an example in which scientists need to know whether plant growth is affected by fertilizers and watering frequency. They planted exactly 30 plants and allowed them to grow for six months under different conditions for fertilizers and watering frequency. After exactly six months, they recorded the heights of each plant centimeters."
   ]
  },
  {
   "cell_type": "code",
   "execution_count": 3,
   "id": "850ccaa3",
   "metadata": {},
   "outputs": [],
   "source": [
    "import numpy as np \n",
    "import pandas as pd"
   ]
  },
  {
   "cell_type": "code",
   "execution_count": 4,
   "id": "06b5d492",
   "metadata": {},
   "outputs": [],
   "source": [
    "# Importing libraries \n",
    "import numpy as np \n",
    "import pandas as pd \n",
    "  \n",
    "# Create a dataframe \n",
    "dataframe = pd.DataFrame({'Fertilizer': np.repeat(['daily', 'weekly'], 15), \n",
    "                          'Watering': np.repeat(['daily', 'weekly'], 15), \n",
    "                          'height': [14, 16, 15, 15, 16, 13, 12, 11, 14,  \n",
    "                                     15, 16, 16, 17, 18, 14, 13, 14, 14,  \n",
    "                                     14, 15, 16, 16, 17, 18, 14, 13, 14,  \n",
    "                                     14, 14, 15]}) "
   ]
  },
  {
   "cell_type": "code",
   "execution_count": 10,
   "id": "6b389b7b",
   "metadata": {},
   "outputs": [],
   "source": [
    "import statsmodels.api as sm \n",
    "from statsmodels.formula.api import ols "
   ]
  },
  {
   "cell_type": "code",
   "execution_count": 11,
   "id": "2a5a30f8",
   "metadata": {},
   "outputs": [
    {
     "name": "stdout",
     "output_type": "stream",
     "text": [
      "                             df     sum_sq   mean_sq         F    PR(>F)\n",
      "C(Fertilizer)               1.0   0.033333  0.033333  0.012069  0.913305\n",
      "C(Watering)                 1.0   1.027463  1.027463  0.372012  0.546828\n",
      "C(Fertilizer):C(Watering)   1.0   0.133582  0.133582  0.048366  0.827527\n",
      "Residual                   28.0  77.333333  2.761905       NaN       NaN\n"
     ]
    }
   ],
   "source": [
    "# Performing two-way ANOVA\n",
    "model = ols('height ~ C(Fertilizer) + C(Watering) + \\\n",
    "             C(Fertilizer):C(Watering)', \n",
    "            data=dataframe).fit() \n",
    "result = sm.stats.anova_lm(model, type=2)\n",
    "\n",
    "# Print the result\n",
    "print(result)"
   ]
  },
  {
   "cell_type": "markdown",
   "id": "d75732bb",
   "metadata": {},
   "source": [
    "## Following are the p-values for each of the factors in the output:\n",
    "\n",
    "### The fertilizer p-value is equal to 0.913305\n",
    "\n",
    "### The Watering p-value is equal to 0.990865\n",
    "\n",
    "### The Fertilizer * Watering: p-value is equal to 0.904053"
   ]
  },
  {
   "cell_type": "markdown",
   "id": "c059c00b",
   "metadata": {},
   "source": [
    "The p-values for water and sun turn out to be less than 0.05 which implies that the means of both the factors possess a statistically significant effect on plant height. The p-value for the interaction effect (0.904053) is greater than 0.05 which depicts that there is no significant interaction effect between fertilizer frequency and watering frequency."
   ]
  }
 ],
 "metadata": {
  "kernelspec": {
   "display_name": "Python 3 (ipykernel)",
   "language": "python",
   "name": "python3"
  },
  "language_info": {
   "codemirror_mode": {
    "name": "ipython",
    "version": 3
   },
   "file_extension": ".py",
   "mimetype": "text/x-python",
   "name": "python",
   "nbconvert_exporter": "python",
   "pygments_lexer": "ipython3",
   "version": "3.10.5"
  }
 },
 "nbformat": 4,
 "nbformat_minor": 5
}

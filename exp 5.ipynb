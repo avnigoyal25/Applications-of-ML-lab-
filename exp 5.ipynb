{
 "cells": [
  {
   "cell_type": "markdown",
   "id": "ca217835",
   "metadata": {},
   "source": [
    "# Unpaired T test"
   ]
  },
  {
   "cell_type": "markdown",
   "id": "64d5de6d",
   "metadata": {},
   "source": [
    "A human resource specialist working in a technology company is interested in the overwork time of different teams. To investigate whether there is a difference between overtime of the software development team and the test team, she selected 17 employees randomly in each of the two teams and recorded their weekly average overwork time in terms of an hour. The data is below.\n",
    "\n",
    "test_team=[6.2, 7.1, 1.5, 2,3 , 2, 1.5, 6.1, 2.4, 2.3, 12.4, 1.8, 5.3, 3.1, 9.4, 2.3, 4.1]\n",
    "software_team=[2.3, 2.1, 1.4, 2.0, 8.7, 2.2, 3.1, 4.2, 3.6, 2.5, 3.1, 6.2, 12.1, 3.9, 2.2, 1.2 ,3.4]\n",
    "\n",
    "According to this information, conduct the hypothesis testing to check whether there is a difference between the overwork time of two teams by using a 0.05 significance level. Before doing hypothesis testing, check the related assumptions. Comment on the results"
   ]
  },
  {
   "cell_type": "code",
   "execution_count": 14,
   "id": "39b8f77f",
   "metadata": {},
   "outputs": [],
   "source": [
    "def check_normality(data):\n",
    "    test_stat_normality, p_value_normality=stats.shapiro(data)\n",
    "    print(\"p value:%.4f\" % p_value_normality)\n",
    "    if p_value_normality <0.05:\n",
    "        print(\"Reject null hypothesis >> The data is not normally distributed\")\n",
    "    else:\n",
    "        print(\"Fail to reject null hypothesis >> The data is normally distributed\")   "
   ]
  },
  {
   "cell_type": "code",
   "execution_count": 15,
   "id": "213f404a",
   "metadata": {},
   "outputs": [],
   "source": [
    "def check_variance_homogeneity(group1, group2):\n",
    "    test_stat_var, p_value_var= stats.levene(group1,group2)\n",
    "    print(\"p value:%.4f\" % p_value_var)\n",
    "    if p_value_var <0.05:\n",
    "        print(\"Reject null hypothesis >> The variances of the samples are different.\")\n",
    "    else:\n",
    "        print(\"Fail to reject null hypothesis >> The variances of the samples are same.\")"
   ]
  },
  {
   "cell_type": "code",
   "execution_count": 11,
   "id": "07a7618c",
   "metadata": {},
   "outputs": [],
   "source": [
    "test_team=np.array([6.2,  7.1,  1.5,  2,3 ,  2,  1.5,  6.1,  2.4,  2.3, 12.4,  1.8,  5.3,  3.1, 9.4,  2.3, 4.1])\n",
    "developer_team=np.array([2.3,  2.1,  1.4,  2.0, 8.7,  2.2,  3.1,  4.2,  3.6, 2.5,  3.1,  6.2, 12.1,  3.9,  2.2, 1.2 ,3.4])"
   ]
  },
  {
   "cell_type": "markdown",
   "id": "3354c228",
   "metadata": {},
   "source": [
    "H0 : The data is normally distributed.\n",
    "H1 : The data is not normally distributed."
   ]
  },
  {
   "cell_type": "code",
   "execution_count": 16,
   "id": "7e91d0bb",
   "metadata": {},
   "outputs": [
    {
     "name": "stdout",
     "output_type": "stream",
     "text": [
      "p value:0.0046\n",
      "Reject null hypothesis >> The data is not normally distributed\n",
      "p value:0.0005\n",
      "Reject null hypothesis >> The data is not normally distributed\n"
     ]
    }
   ],
   "source": [
    "check_normality(test_team)\n",
    "check_normality(developer_team)"
   ]
  },
  {
   "cell_type": "markdown",
   "id": "d7412669",
   "metadata": {},
   "source": [
    "H0 : The variances of the samples are the same.\n",
    "    \n",
    "H1 : The variances of the samples are different."
   ]
  },
  {
   "cell_type": "code",
   "execution_count": 18,
   "id": "80888363",
   "metadata": {},
   "outputs": [
    {
     "name": "stdout",
     "output_type": "stream",
     "text": [
      "p value:0.5410\n",
      "Fail to reject null hypothesis >> The variances of the samples are same.\n"
     ]
    }
   ],
   "source": [
    "check_variance_homogeneity(test_team, developer_team)"
   ]
  },
  {
   "cell_type": "markdown",
   "id": "807989da",
   "metadata": {},
   "source": [
    "H0 : u1=u2 or u1-u2=0 or The mean of the samples are same.\n",
    "    \n",
    "H1 : u1!=u2 or u1-u2!=0 or The mean of the samples are different."
   ]
  },
  {
   "cell_type": "code",
   "execution_count": 19,
   "id": "25e00f04",
   "metadata": {
    "scrolled": true
   },
   "outputs": [
    {
     "name": "stdout",
     "output_type": "stream",
     "text": [
      "p-value:0.8226\n",
      "Fail to recejt null hypothesis\n"
     ]
    }
   ],
   "source": [
    "ttest,pvalue = stats.mannwhitneyu(test_team,developer_team, alternative=\"two-sided\")\n",
    "print(\"p-value:%.4f\" % pvalue)\n",
    "if pvalue <0.05:\n",
    "    print(\"Reject null hypothesis\")\n",
    "else:\n",
    "    print(\"Fail to recejt null hypothesis\")"
   ]
  },
  {
   "cell_type": "markdown",
   "id": "6c44bdd5",
   "metadata": {},
   "source": [
    "### At this significance level, it can be said that there is no statistically significant difference between the average overwork time of the two teams."
   ]
  },
  {
   "cell_type": "markdown",
   "id": "f5e8d4b2",
   "metadata": {},
   "source": [
    "# Paired T test"
   ]
  },
  {
   "cell_type": "markdown",
   "id": "b7a54b35",
   "metadata": {},
   "source": [
    "H0: It signifies that the mean pre-test and post-test scores are equal\n",
    "    \n",
    "HA: It signifies that the mean pre-test and post-test scores are not equal"
   ]
  },
  {
   "cell_type": "code",
   "execution_count": 20,
   "id": "e7191b72",
   "metadata": {},
   "outputs": [
    {
     "data": {
      "text/plain": [
       "Ttest_relResult(statistic=2.584921310565987, pvalue=0.029457853822895275)"
      ]
     },
     "execution_count": 20,
     "metadata": {},
     "output_type": "execute_result"
    }
   ],
   "source": [
    "# Importing library \n",
    "import scipy.stats as stats \n",
    "\n",
    "# pre holds the mileage before \n",
    "# applying the different engine oil \n",
    "pre = [30, 31, 34, 40, 36, 35, \n",
    "\t34, 30, 28, 29] \n",
    "\n",
    "# post holds the mileage after \n",
    "# applying the different engine oil \n",
    "post = [30, 31, 32, 38, 32, 31, \n",
    "\t\t32, 29, 28, 30] \n",
    "\n",
    "# Performing the paired sample t-test \n",
    "stats.ttest_rel(pre, post) "
   ]
  },
  {
   "cell_type": "markdown",
   "id": "b80461fc",
   "metadata": {},
   "source": [
    "The test statistic comes out to be equal to 2.584 and the corresponding two-sided p-value is 0.029."
   ]
  },
  {
   "cell_type": "markdown",
   "id": "8d7fe6ac",
   "metadata": {},
   "source": [
    "### As the p-value comes out to be equal to 0.029 which is less than 0.05 hence we reject the null hypothesis"
   ]
  },
  {
   "cell_type": "markdown",
   "id": "d319e83b",
   "metadata": {},
   "source": [
    "# Z test- one sample"
   ]
  },
  {
   "cell_type": "markdown",
   "id": "f97feb46",
   "metadata": {},
   "source": [
    "Example: Suppose we want to test whether or not girls, on average, score higher than 600 on the SAT verbal section. Suppose we also know that the standard deviation for girls SAT verbal section scores is 100.We collect the data of 32 girls by using random samples and record their marks. Finally, we also set our alpha (⍺) value (significance level) to be 0.05."
   ]
  },
  {
   "cell_type": "code",
   "execution_count": 21,
   "id": "fd974a49",
   "metadata": {},
   "outputs": [
    {
     "name": "stdout",
     "output_type": "stream",
     "text": [
      "Null hypothesis is accepted!\n",
      "Z-test Score: 0.8987357385558196 \n",
      "P-value: 0.18439671803663865\n",
      "Null hypothesis is accepted!\n"
     ]
    },
    {
     "data": {
      "text/plain": [
       "(1.8335757415498277, 0.06671699590108493)"
      ]
     },
     "execution_count": 21,
     "metadata": {},
     "output_type": "execute_result"
    }
   ],
   "source": [
    "import math \n",
    "import numpy as np\n",
    "from statsmodels.stats.weightstats import ztest\n",
    "from scipy.stats import norm\n",
    "\n",
    "sample_marks = [650,730,510,670,480,800,690,530,590,620,710,670,640,780,650,490,800,600,510,700,750,340,650,987,345,654,500,900,867,450,324,435]\n",
    "\n",
    "# Method 1 : Using Z-score\n",
    "\n",
    "sample_mean = np.mean(sample_marks)\n",
    "sample_size = np.count_nonzero(sample_marks)\n",
    "population_mean = 600\n",
    "population_std = 100\n",
    "alpha = 0.05\n",
    "z_score = (sample_mean-population_mean)/(population_std/math.sqrt(sample_size))\n",
    "critical_value = 1.645 # from z table\n",
    "if(z_score<critical_value):\n",
    "    print('Null hypothesis is accepted!')\n",
    "else:\n",
    "    print('Null hypothesis is rejected. \\nAlternate hypothesis is accepted!')\n",
    "    \n",
    "    \n",
    "# Method 2: Using built in function of ztest\n",
    "\n",
    "ztest_score, pval = ztest(sample_marks,value=population_mean,alternative='larger')\n",
    "print('Z-test Score:',ztest_score,'\\nP-value:',pval)\n",
    "if(pval>alpha):\n",
    "     print('Null hypothesis is accepted!')\n",
    "else:\n",
    "    print('Null hypothesis is rejected. \\nAlternate hypothesis is accepted!')   \n",
    " \n",
    " \n",
    "# Method 3: Creating a function \n",
    "\n",
    "def ztest(x,mu,sigma,n):\n",
    "    deno = sigma/math.sqrt(n)\n",
    "    z = (x-mu)/deno\n",
    "    p = 2*(1-norm.cdf(abs(z)))\n",
    "    return z,p\n",
    "  \n",
    "s_mean = np.mean(sample_marks)\n",
    "p_mean = 600\n",
    "p_std = 100\n",
    "s_size = np.count_nonzero(sample_marks)\n",
    "\n",
    "ztest(s_mean,p_mean,p_std,s_size)\n",
    "\n",
    "ztest(641,600,100,20)"
   ]
  },
  {
   "cell_type": "markdown",
   "id": "2d89c337",
   "metadata": {},
   "source": [
    "# Two sample z test"
   ]
  },
  {
   "cell_type": "markdown",
   "id": "29be862d",
   "metadata": {},
   "source": [
    "Example: Suppose we want to test if Girls on an average score 10 marks more than the boys. Suppose we also know that the standard deviation for girl’s Score is 100 and for boy’s score is 90. We collect the data of 32 girls and 32 boys by using random samples and record their marks. Finally, we also set our alpha (⍺) value (significance level) to be 0.05."
   ]
  },
  {
   "cell_type": "code",
   "execution_count": 22,
   "id": "50744c31",
   "metadata": {},
   "outputs": [
    {
     "name": "stdout",
     "output_type": "stream",
     "text": [
      "Z-score: -0.11110075484097665 \n",
      "P-value: 0.5442317749137925\n",
      "Null hypothesis is accepted!\n",
      "Null hypothesis is accepted!\n"
     ]
    }
   ],
   "source": [
    "import math \n",
    "import numpy as np\n",
    "from statsmodels.stats.weightstats import ztest\n",
    "\n",
    "sample_marks1 = [650,730,510,670,480,800,690,530,590,620,710,670,640,780,650,490,800,600,510,700,750,340,650,987,345,654,500,900,867,450,324,435]\n",
    "sample_marks2 = [630,720,462,631,440,783,673,519,543,579,677,649,632,768,615,463,781,563,488,650,670,780,640,654,510,654,899,760,234,657,789,324]\n",
    "\n",
    "sample_mean1 = np.mean(sample_marks1)\n",
    "sample_mean2 = np.mean(sample_marks2)\n",
    "sample_size1 = np.count_nonzero(sample_marks1)\n",
    "sample_size2 = np.count_nonzero(sample_marks2)\n",
    "population_mean_diff = 10\n",
    "population_std1 = 100\n",
    "population_std2 = 90\n",
    "alpha = 0.05\n",
    "\n",
    "# Method 1: Using built in function of ztest\n",
    "\n",
    "z,p = ztest(x1=sample_marks1,x2=sample_marks2,value=population_mean_diff,alternative='larger')\n",
    "print('Z-score:',z,'\\nP-value:',p)\n",
    "\n",
    "if(p>alpha):\n",
    "    print('Null hypothesis is accepted!')\n",
    "else:\n",
    "    print('Null hypothesis is rejected. \\nAlternate hypothesis is accepted!')    \n",
    "    \n",
    "# Method 2: Calculating Z-score  \n",
    "\n",
    "zscore = ((sample_mean1-sample_mean2)-(population_mean_diff))/(math.sqrt((population_std1**2/sample_size1)+(population_std2**2/sample_size2)))\n",
    "critical_value = 1.645 # from z table\n",
    "\n",
    "if(zscore<critical_value):\n",
    "    print('Null hypothesis is accepted!')\n",
    "else:\n",
    "    print('Null hypothesis is rejected. \\nAlternate hypothesis is accepted!')"
   ]
  }
 ],
 "metadata": {
  "kernelspec": {
   "display_name": "Python 3 (ipykernel)",
   "language": "python",
   "name": "python3"
  },
  "language_info": {
   "codemirror_mode": {
    "name": "ipython",
    "version": 3
   },
   "file_extension": ".py",
   "mimetype": "text/x-python",
   "name": "python",
   "nbconvert_exporter": "python",
   "pygments_lexer": "ipython3",
   "version": "3.10.5"
  }
 },
 "nbformat": 4,
 "nbformat_minor": 5
}
